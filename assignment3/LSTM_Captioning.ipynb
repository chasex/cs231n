{
 "cells": [
  {
   "cell_type": "markdown",
   "metadata": {
    "deletable": true,
    "editable": true
   },
   "source": [
    "# Image Captioning with LSTMs\n",
    "In the previous exercise you implemented a vanilla RNN and applied it to image captioning. In this notebook you will implement the LSTM update rule and use it for image captioning."
   ]
  },
  {
   "cell_type": "code",
   "execution_count": 1,
   "metadata": {
    "collapsed": false,
    "deletable": true,
    "editable": true
   },
   "outputs": [
    {
     "name": "stderr",
     "output_type": "stream",
     "text": [
      "/home/luban/anaconda3/lib/python3.6/site-packages/h5py/__init__.py:36: FutureWarning: Conversion of the second argument of issubdtype from `float` to `np.floating` is deprecated. In future, it will be treated as `np.float64 == np.dtype(float).type`.\n",
      "  from ._conv import register_converters as _register_converters\n"
     ]
    }
   ],
   "source": [
    "# As usual, a bit of setup\n",
    "from __future__ import print_function\n",
    "import time, os, json\n",
    "import numpy as np\n",
    "import matplotlib.pyplot as plt\n",
    "\n",
    "from cs231n.gradient_check import eval_numerical_gradient, eval_numerical_gradient_array\n",
    "from cs231n.rnn_layers import *\n",
    "from cs231n.captioning_solver import CaptioningSolver\n",
    "from cs231n.classifiers.rnn import CaptioningRNN\n",
    "from cs231n.coco_utils import load_coco_data, sample_coco_minibatch, decode_captions\n",
    "from cs231n.image_utils import image_from_url\n",
    "\n",
    "%matplotlib inline\n",
    "plt.rcParams['figure.figsize'] = (10.0, 8.0) # set default size of plots\n",
    "plt.rcParams['image.interpolation'] = 'nearest'\n",
    "plt.rcParams['image.cmap'] = 'gray'\n",
    "\n",
    "# for auto-reloading external modules\n",
    "# see http://stackoverflow.com/questions/1907993/autoreload-of-modules-in-ipython\n",
    "%load_ext autoreload\n",
    "%autoreload 2\n",
    "\n",
    "def rel_error(x, y):\n",
    "    \"\"\" returns relative error \"\"\"\n",
    "    return np.max(np.abs(x - y) / (np.maximum(1e-8, np.abs(x) + np.abs(y))))"
   ]
  },
  {
   "cell_type": "markdown",
   "metadata": {
    "deletable": true,
    "editable": true
   },
   "source": [
    "# Load MS-COCO data\n",
    "As in the previous notebook, we will use the Microsoft COCO dataset for captioning."
   ]
  },
  {
   "cell_type": "code",
   "execution_count": 2,
   "metadata": {
    "collapsed": false,
    "deletable": true,
    "editable": true
   },
   "outputs": [
    {
     "name": "stdout",
     "output_type": "stream",
     "text": [
      "train_captions <class 'numpy.ndarray'> (400135, 17) int32\n",
      "train_image_idxs <class 'numpy.ndarray'> (400135,) int32\n",
      "val_captions <class 'numpy.ndarray'> (195954, 17) int32\n",
      "val_image_idxs <class 'numpy.ndarray'> (195954,) int32\n",
      "train_features <class 'numpy.ndarray'> (82783, 512) float32\n",
      "val_features <class 'numpy.ndarray'> (40504, 512) float32\n",
      "idx_to_word <class 'list'> 1004\n",
      "word_to_idx <class 'dict'> 1004\n",
      "train_urls <class 'numpy.ndarray'> (82783,) <U63\n",
      "val_urls <class 'numpy.ndarray'> (40504,) <U63\n"
     ]
    }
   ],
   "source": [
    "# Load COCO data from disk; this returns a dictionary\n",
    "# We'll work with dimensionality-reduced features for this notebook, but feel\n",
    "# free to experiment with the original features by changing the flag below.\n",
    "data = load_coco_data(pca_features=True)\n",
    "\n",
    "# Print out all the keys and values from the data dictionary\n",
    "for k, v in data.items():\n",
    "    if type(v) == np.ndarray:\n",
    "        print(k, type(v), v.shape, v.dtype)\n",
    "    else:\n",
    "        print(k, type(v), len(v))"
   ]
  },
  {
   "cell_type": "markdown",
   "metadata": {
    "deletable": true,
    "editable": true
   },
   "source": [
    "# LSTM\n",
    "If you read recent papers, you'll see that many people use a variant on the vanialla RNN called Long-Short Term Memory (LSTM) RNNs. Vanilla RNNs can be tough to train on long sequences due to vanishing and exploding gradiants caused by repeated matrix multiplication. LSTMs solve this problem by replacing the simple update rule of the vanilla RNN with a gating mechanism as follows.\n",
    "\n",
    "Similar to the vanilla RNN, at each timestep we receive an input $x_t\\in\\mathbb{R}^D$ and the previous hidden state $h_{t-1}\\in\\mathbb{R}^H$; the LSTM also maintains an $H$-dimensional *cell state*, so we also receive the previous cell state $c_{t-1}\\in\\mathbb{R}^H$. The learnable parameters of the LSTM are an *input-to-hidden* matrix $W_x\\in\\mathbb{R}^{4H\\times D}$, a *hidden-to-hidden* matrix $W_h\\in\\mathbb{R}^{4H\\times H}$ and a *bias vector* $b\\in\\mathbb{R}^{4H}$.\n",
    "\n",
    "At each timestep we first compute an *activation vector* $a\\in\\mathbb{R}^{4H}$ as $a=W_xx_t + W_hh_{t-1}+b$. We then divide this into four vectors $a_i,a_f,a_o,a_g\\in\\mathbb{R}^H$ where $a_i$ consists of the first $H$ elements of $a$, $a_f$ is the next $H$ elements of $a$, etc. We then compute the *input gate* $g\\in\\mathbb{R}^H$, *forget gate* $f\\in\\mathbb{R}^H$, *output gate* $o\\in\\mathbb{R}^H$ and *block input* $g\\in\\mathbb{R}^H$ as\n",
    "\n",
    "$$\n",
    "\\begin{align*}\n",
    "i = \\sigma(a_i) \\hspace{2pc}\n",
    "f = \\sigma(a_f) \\hspace{2pc}\n",
    "o = \\sigma(a_o) \\hspace{2pc}\n",
    "g = \\tanh(a_g)\n",
    "\\end{align*}\n",
    "$$\n",
    "\n",
    "where $\\sigma$ is the sigmoid function and $\\tanh$ is the hyperbolic tangent, both applied elementwise.\n",
    "\n",
    "Finally we compute the next cell state $c_t$ and next hidden state $h_t$ as\n",
    "\n",
    "$$\n",
    "c_{t} = f\\odot c_{t-1} + i\\odot g \\hspace{4pc}\n",
    "h_t = o\\odot\\tanh(c_t)\n",
    "$$\n",
    "\n",
    "where $\\odot$ is the elementwise product of vectors.\n",
    "\n",
    "In the rest of the notebook we will implement the LSTM update rule and apply it to the image captioning task. \n",
    "\n",
    "In the code, we assume that data is stored in batches so that $X_t \\in \\mathbb{R}^{N\\times D}$, and will work with *transposed* versions of the parameters: $W_x \\in \\mathbb{R}^{D \\times 4H}$, $W_h \\in \\mathbb{R}^{H\\times 4H}$ so that activations $A \\in \\mathbb{R}^{N\\times 4H}$ can be computed efficiently as $A = X_t W_x + H_{t-1} W_h$"
   ]
  },
  {
   "cell_type": "markdown",
   "metadata": {
    "deletable": true,
    "editable": true
   },
   "source": [
    "# LSTM: step forward\n",
    "Implement the forward pass for a single timestep of an LSTM in the `lstm_step_forward` function in the file `cs231n/rnn_layers.py`. This should be similar to the `rnn_step_forward` function that you implemented above, but using the LSTM update rule instead.\n",
    "\n",
    "Once you are done, run the following to perform a simple test of your implementation. You should see errors around `1e-8` or less."
   ]
  },
  {
   "cell_type": "code",
   "execution_count": 3,
   "metadata": {
    "collapsed": false,
    "deletable": true,
    "editable": true
   },
   "outputs": [
    {
     "name": "stdout",
     "output_type": "stream",
     "text": [
      "next_h error:  5.7054131967097955e-09\n",
      "next_c error:  5.8143123088804145e-09\n"
     ]
    }
   ],
   "source": [
    "N, D, H = 3, 4, 5\n",
    "x = np.linspace(-0.4, 1.2, num=N*D).reshape(N, D)\n",
    "prev_h = np.linspace(-0.3, 0.7, num=N*H).reshape(N, H)\n",
    "prev_c = np.linspace(-0.4, 0.9, num=N*H).reshape(N, H)\n",
    "Wx = np.linspace(-2.1, 1.3, num=4*D*H).reshape(D, 4 * H)\n",
    "Wh = np.linspace(-0.7, 2.2, num=4*H*H).reshape(H, 4 * H)\n",
    "b = np.linspace(0.3, 0.7, num=4*H)\n",
    "\n",
    "next_h, next_c, cache = lstm_step_forward(x, prev_h, prev_c, Wx, Wh, b)\n",
    "\n",
    "expected_next_h = np.asarray([\n",
    "    [ 0.24635157,  0.28610883,  0.32240467,  0.35525807,  0.38474904],\n",
    "    [ 0.49223563,  0.55611431,  0.61507696,  0.66844003,  0.7159181 ],\n",
    "    [ 0.56735664,  0.66310127,  0.74419266,  0.80889665,  0.858299  ]])\n",
    "expected_next_c = np.asarray([\n",
    "    [ 0.32986176,  0.39145139,  0.451556,    0.51014116,  0.56717407],\n",
    "    [ 0.66382255,  0.76674007,  0.87195994,  0.97902709,  1.08751345],\n",
    "    [ 0.74192008,  0.90592151,  1.07717006,  1.25120233,  1.42395676]])\n",
    "\n",
    "print('next_h error: ', rel_error(expected_next_h, next_h))\n",
    "print('next_c error: ', rel_error(expected_next_c, next_c))"
   ]
  },
  {
   "cell_type": "markdown",
   "metadata": {
    "deletable": true,
    "editable": true
   },
   "source": [
    "# LSTM: step backward\n",
    "Implement the backward pass for a single LSTM timestep in the function `lstm_step_backward` in the file `cs231n/rnn_layers.py`. Once you are done, run the following to perform numeric gradient checking on your implementation. You should see errors around `1e-6` or less."
   ]
  },
  {
   "cell_type": "code",
   "execution_count": 4,
   "metadata": {
    "collapsed": false,
    "deletable": true,
    "editable": true
   },
   "outputs": [
    {
     "name": "stdout",
     "output_type": "stream",
     "text": [
      "dx error:  6.335685994942035e-10\n",
      "dh error:  3.396373898972598e-10\n",
      "dc error:  1.5221723979041107e-10\n",
      "dWx error:  2.1010960934639614e-09\n",
      "dWh error:  9.712296109943072e-08\n",
      "db error:  2.491522041931035e-10\n"
     ]
    }
   ],
   "source": [
    "np.random.seed(231)\n",
    "\n",
    "N, D, H = 4, 5, 6\n",
    "x = np.random.randn(N, D)\n",
    "prev_h = np.random.randn(N, H)\n",
    "prev_c = np.random.randn(N, H)\n",
    "Wx = np.random.randn(D, 4 * H)\n",
    "Wh = np.random.randn(H, 4 * H)\n",
    "b = np.random.randn(4 * H)\n",
    "\n",
    "next_h, next_c, cache = lstm_step_forward(x, prev_h, prev_c, Wx, Wh, b)\n",
    "\n",
    "dnext_h = np.random.randn(*next_h.shape)\n",
    "dnext_c = np.random.randn(*next_c.shape)\n",
    "\n",
    "fx_h = lambda x: lstm_step_forward(x, prev_h, prev_c, Wx, Wh, b)[0]\n",
    "fh_h = lambda h: lstm_step_forward(x, prev_h, prev_c, Wx, Wh, b)[0]\n",
    "fc_h = lambda c: lstm_step_forward(x, prev_h, prev_c, Wx, Wh, b)[0]\n",
    "fWx_h = lambda Wx: lstm_step_forward(x, prev_h, prev_c, Wx, Wh, b)[0]\n",
    "fWh_h = lambda Wh: lstm_step_forward(x, prev_h, prev_c, Wx, Wh, b)[0]\n",
    "fb_h = lambda b: lstm_step_forward(x, prev_h, prev_c, Wx, Wh, b)[0]\n",
    "\n",
    "fx_c = lambda x: lstm_step_forward(x, prev_h, prev_c, Wx, Wh, b)[1]\n",
    "fh_c = lambda h: lstm_step_forward(x, prev_h, prev_c, Wx, Wh, b)[1]\n",
    "fc_c = lambda c: lstm_step_forward(x, prev_h, prev_c, Wx, Wh, b)[1]\n",
    "fWx_c = lambda Wx: lstm_step_forward(x, prev_h, prev_c, Wx, Wh, b)[1]\n",
    "fWh_c = lambda Wh: lstm_step_forward(x, prev_h, prev_c, Wx, Wh, b)[1]\n",
    "fb_c = lambda b: lstm_step_forward(x, prev_h, prev_c, Wx, Wh, b)[1]\n",
    "\n",
    "num_grad = eval_numerical_gradient_array\n",
    "\n",
    "dx_num = num_grad(fx_h, x, dnext_h) + num_grad(fx_c, x, dnext_c)\n",
    "dh_num = num_grad(fh_h, prev_h, dnext_h) + num_grad(fh_c, prev_h, dnext_c)\n",
    "dc_num = num_grad(fc_h, prev_c, dnext_h) + num_grad(fc_c, prev_c, dnext_c)\n",
    "dWx_num = num_grad(fWx_h, Wx, dnext_h) + num_grad(fWx_c, Wx, dnext_c)\n",
    "dWh_num = num_grad(fWh_h, Wh, dnext_h) + num_grad(fWh_c, Wh, dnext_c)\n",
    "db_num = num_grad(fb_h, b, dnext_h) + num_grad(fb_c, b, dnext_c)\n",
    "\n",
    "dx, dh, dc, dWx, dWh, db = lstm_step_backward(dnext_h, dnext_c, cache)\n",
    "\n",
    "print('dx error: ', rel_error(dx_num, dx))\n",
    "print('dh error: ', rel_error(dh_num, dh))\n",
    "print('dc error: ', rel_error(dc_num, dc))\n",
    "print('dWx error: ', rel_error(dWx_num, dWx))\n",
    "print('dWh error: ', rel_error(dWh_num, dWh))\n",
    "print('db error: ', rel_error(db_num, db))"
   ]
  },
  {
   "cell_type": "markdown",
   "metadata": {
    "deletable": true,
    "editable": true
   },
   "source": [
    "# LSTM: forward\n",
    "In the function `lstm_forward` in the file `cs231n/rnn_layers.py`, implement the `lstm_forward` function to run an LSTM forward on an entire timeseries of data.\n",
    "\n",
    "When you are done, run the following to check your implementation. You should see an error around `1e-7`."
   ]
  },
  {
   "cell_type": "code",
   "execution_count": 5,
   "metadata": {
    "collapsed": false,
    "deletable": true,
    "editable": true
   },
   "outputs": [
    {
     "name": "stdout",
     "output_type": "stream",
     "text": [
      "h error:  8.610537452106624e-08\n"
     ]
    }
   ],
   "source": [
    "N, D, H, T = 2, 5, 4, 3\n",
    "x = np.linspace(-0.4, 0.6, num=N*T*D).reshape(N, T, D)\n",
    "h0 = np.linspace(-0.4, 0.8, num=N*H).reshape(N, H)\n",
    "Wx = np.linspace(-0.2, 0.9, num=4*D*H).reshape(D, 4 * H)\n",
    "Wh = np.linspace(-0.3, 0.6, num=4*H*H).reshape(H, 4 * H)\n",
    "b = np.linspace(0.2, 0.7, num=4*H)\n",
    "\n",
    "h, cache = lstm_forward(x, h0, Wx, Wh, b)\n",
    "\n",
    "expected_h = np.asarray([\n",
    " [[ 0.01764008,  0.01823233,  0.01882671,  0.0194232 ],\n",
    "  [ 0.11287491,  0.12146228,  0.13018446,  0.13902939],\n",
    "  [ 0.31358768,  0.33338627,  0.35304453,  0.37250975]],\n",
    " [[ 0.45767879,  0.4761092,   0.4936887,   0.51041945],\n",
    "  [ 0.6704845,   0.69350089,  0.71486014,  0.7346449 ],\n",
    "  [ 0.81733511,  0.83677871,  0.85403753,  0.86935314]]])\n",
    "\n",
    "print('h error: ', rel_error(expected_h, h))"
   ]
  },
  {
   "cell_type": "markdown",
   "metadata": {
    "deletable": true,
    "editable": true
   },
   "source": [
    "# LSTM: backward\n",
    "Implement the backward pass for an LSTM over an entire timeseries of data in the function `lstm_backward` in the file `cs231n/rnn_layers.py`. When you are done, run the following to perform numeric gradient checking on your implementation. You should see errors around `1e-7` or less."
   ]
  },
  {
   "cell_type": "code",
   "execution_count": 6,
   "metadata": {
    "collapsed": false,
    "deletable": true,
    "editable": true
   },
   "outputs": [
    {
     "name": "stdout",
     "output_type": "stream",
     "text": [
      "dx error:  6.993905897531063e-09\n",
      "dh0 error:  1.5042781960693895e-09\n",
      "dWx error:  3.226295242886825e-09\n",
      "dWh error:  2.698465274495974e-06\n",
      "db error:  8.236639762475693e-10\n"
     ]
    }
   ],
   "source": [
    "from cs231n.rnn_layers import lstm_forward, lstm_backward\n",
    "np.random.seed(231)\n",
    "\n",
    "N, D, T, H = 2, 3, 10, 6\n",
    "\n",
    "x = np.random.randn(N, T, D)\n",
    "h0 = np.random.randn(N, H)\n",
    "Wx = np.random.randn(D, 4 * H)\n",
    "Wh = np.random.randn(H, 4 * H)\n",
    "b = np.random.randn(4 * H)\n",
    "\n",
    "out, cache = lstm_forward(x, h0, Wx, Wh, b)\n",
    "\n",
    "dout = np.random.randn(*out.shape)\n",
    "\n",
    "dx, dh0, dWx, dWh, db = lstm_backward(dout, cache)\n",
    "\n",
    "fx = lambda x: lstm_forward(x, h0, Wx, Wh, b)[0]\n",
    "fh0 = lambda h0: lstm_forward(x, h0, Wx, Wh, b)[0]\n",
    "fWx = lambda Wx: lstm_forward(x, h0, Wx, Wh, b)[0]\n",
    "fWh = lambda Wh: lstm_forward(x, h0, Wx, Wh, b)[0]\n",
    "fb = lambda b: lstm_forward(x, h0, Wx, Wh, b)[0]\n",
    "\n",
    "dx_num = eval_numerical_gradient_array(fx, x, dout)\n",
    "dh0_num = eval_numerical_gradient_array(fh0, h0, dout)\n",
    "dWx_num = eval_numerical_gradient_array(fWx, Wx, dout)\n",
    "dWh_num = eval_numerical_gradient_array(fWh, Wh, dout)\n",
    "db_num = eval_numerical_gradient_array(fb, b, dout)\n",
    "\n",
    "print('dx error: ', rel_error(dx_num, dx))\n",
    "print('dh0 error: ', rel_error(dh0_num, dh0))\n",
    "print('dWx error: ', rel_error(dWx_num, dWx))\n",
    "print('dWh error: ', rel_error(dWh_num, dWh))\n",
    "print('db error: ', rel_error(db_num, db))"
   ]
  },
  {
   "cell_type": "markdown",
   "metadata": {
    "deletable": true,
    "editable": true
   },
   "source": [
    "# LSTM captioning model\n",
    "\n",
    "Now that you have implemented an LSTM, update the implementation of the `loss` method of the `CaptioningRNN` class in the file `cs231n/classifiers/rnn.py` to handle the case where `self.cell_type` is `lstm`. This should require adding less than 10 lines of code.\n",
    "\n",
    "Once you have done so, run the following to check your implementation. You should see a difference of less than `1e-10`."
   ]
  },
  {
   "cell_type": "code",
   "execution_count": 7,
   "metadata": {
    "collapsed": false,
    "deletable": true,
    "editable": true
   },
   "outputs": [
    {
     "name": "stdout",
     "output_type": "stream",
     "text": [
      "loss:  9.824459354432264\n",
      "expected loss:  9.82445935443\n",
      "difference:  2.2648549702353193e-12\n"
     ]
    }
   ],
   "source": [
    "N, D, W, H = 10, 20, 30, 40\n",
    "word_to_idx = {'<NULL>': 0, 'cat': 2, 'dog': 3}\n",
    "V = len(word_to_idx)\n",
    "T = 13\n",
    "\n",
    "model = CaptioningRNN(word_to_idx,\n",
    "          input_dim=D,\n",
    "          wordvec_dim=W,\n",
    "          hidden_dim=H,\n",
    "          cell_type='lstm',\n",
    "          dtype=np.float64)\n",
    "\n",
    "# Set all model parameters to fixed values\n",
    "for k, v in model.params.items():\n",
    "  model.params[k] = np.linspace(-1.4, 1.3, num=v.size).reshape(*v.shape)\n",
    "\n",
    "features = np.linspace(-0.5, 1.7, num=N*D).reshape(N, D)\n",
    "captions = (np.arange(N * T) % V).reshape(N, T)\n",
    "\n",
    "loss, grads = model.loss(features, captions)\n",
    "expected_loss = 9.82445935443\n",
    "\n",
    "print('loss: ', loss)\n",
    "print('expected loss: ', expected_loss)\n",
    "print('difference: ', abs(loss - expected_loss))"
   ]
  },
  {
   "cell_type": "markdown",
   "metadata": {
    "deletable": true,
    "editable": true
   },
   "source": [
    "# Overfit LSTM captioning model\n",
    "Run the following to overfit an LSTM captioning model on the same small dataset as we used for the RNN previously. You should see losses less than 0.5."
   ]
  },
  {
   "cell_type": "code",
   "execution_count": 8,
   "metadata": {
    "collapsed": false,
    "deletable": true,
    "editable": true
   },
   "outputs": [
    {
     "name": "stdout",
     "output_type": "stream",
     "text": [
      "(Iteration 1 / 100) loss: 79.551152\n",
      "(Iteration 11 / 100) loss: 43.829111\n",
      "(Iteration 21 / 100) loss: 30.062480\n",
      "(Iteration 31 / 100) loss: 14.019861\n",
      "(Iteration 41 / 100) loss: 6.010912\n",
      "(Iteration 51 / 100) loss: 1.857954\n",
      "(Iteration 61 / 100) loss: 0.650195\n",
      "(Iteration 71 / 100) loss: 0.283243\n",
      "(Iteration 81 / 100) loss: 0.249998\n",
      "(Iteration 91 / 100) loss: 0.132026\n"
     ]
    },
    {
     "data": {
      "image/png": "[encoded data removed]",
      "text/plain": [
       "<Figure size 432x288 with 1 Axes>"
      ]
     },
     "metadata": {},
     "output_type": "display_data"
    }
   ],
   "source": [
    "np.random.seed(231)\n",
    "\n",
    "small_data = load_coco_data(max_train=50)\n",
    "\n",
    "small_lstm_model = CaptioningRNN(\n",
    "          cell_type='lstm',\n",
    "          word_to_idx=data['word_to_idx'],\n",
    "          input_dim=data['train_features'].shape[1],\n",
    "          hidden_dim=512,\n",
    "          wordvec_dim=256,\n",
    "          dtype=np.float32,\n",
    "        )\n",
    "\n",
    "small_lstm_solver = CaptioningSolver(small_lstm_model, small_data,\n",
    "           update_rule='adam',\n",
    "           num_epochs=50,\n",
    "           batch_size=25,\n",
    "           optim_config={\n",
    "             'learning_rate': 5e-3,\n",
    "           },\n",
    "           lr_decay=0.995,\n",
    "           verbose=True, print_every=10,\n",
    "         )\n",
    "\n",
    "small_lstm_solver.train()\n",
    "\n",
    "# Plot the training losses\n",
    "plt.plot(small_lstm_solver.loss_history)\n",
    "plt.xlabel('Iteration')\n",
    "plt.ylabel('Loss')\n",
    "plt.title('Training loss history')\n",
    "plt.show()"
   ]
  },
  {
   "cell_type": "markdown",
   "metadata": {
    "deletable": true,
    "editable": true
   },
   "source": [
    "# LSTM test-time sampling\n",
    "Modify the `sample` method of the `CaptioningRNN` class to handle the case where `self.cell_type` is `lstm`. This should take fewer than 10 lines of code.\n",
    "\n",
    "When you are done run the following to sample from your overfit LSTM model on some training and validation set samples."
   ]
  },
  {
   "cell_type": "code",
   "execution_count": 9,
   "metadata": {
    "collapsed": false,
    "deletable": true,
    "editable": true
   },
   "outputs": [
    {
     "name": "stdout",
     "output_type": "stream",
     "text": [
      "train\n",
      "a man standing on the side of a road with bags of luggage <END>\n",
      "GT:<START> a man standing on the side of a road with bags of luggage <END>\n",
      "train\n",
      "a man <UNK> with a bright colorful kite <END>\n",
      "GT:<START> a man <UNK> with a bright colorful kite <END>\n",
      "val\n",
      "air in the <UNK> <END>\n",
      "GT:<START> a man laying down on a park bench <END>\n",
      "val\n",
      "a man <UNK> and a <UNK> out of the <UNK> <END>\n",
      "GT:<START> a road sign for <UNK> over the back of a stop sign <END>\n"
     ]
    }
   ],
   "source": [
    "for split in ['train', 'val']:\n",
    "    minibatch = sample_coco_minibatch(small_data, split=split, batch_size=2)\n",
    "    gt_captions, features, urls = minibatch\n",
    "    gt_captions = decode_captions(gt_captions, data['idx_to_word'])\n",
    "\n",
    "    sample_captions = small_lstm_model.sample(features)\n",
    "    sample_captions = decode_captions(sample_captions, data['idx_to_word'])\n",
    "\n",
    "    for gt_caption, sample_caption, url in zip(gt_captions, sample_captions, urls):\n",
    "        # plt.imshow(image_from_url(url))\n",
    "        # plt.title('%s\\n%s\\nGT:%s' % (split, sample_caption, gt_caption))\n",
    "        # plt.axis('off')\n",
    "        # plt.show()\n",
    "        print('%s\\n%s\\nGT:%s' % (split, sample_caption, gt_caption))"
   ]
  },
  {
   "cell_type": "markdown",
   "metadata": {
    "deletable": true,
    "editable": true
   },
   "source": [
    "# Extra Credit: Train a good captioning model!\n",
    "Using the pieces you have implemented in this and the previous notebook, try to train a captioning model that gives decent qualitative results (better than the random garbage you saw with the overfit models) when sampling on the validation set. You can subsample the training set if you want; we just want to see samples on the validation set that are better than random.\n",
    "\n",
    "In addition to qualitatively evaluating your model by inspecting its results, you can also quantitatively evaluate your model using the BLEU unigram precision metric. We'll give you a small amount of extra credit if you can train a model that achieves a BLEU unigram score of >0.3. BLEU scores range from 0 to 1; the closer to 1, the better. Here's a reference to the [paper](http://www.aclweb.org/anthology/P02-1040.pdf) that introduces BLEU if you're interested in learning more about how it works.\n",
    "\n",
    "Feel free to use PyTorch or TensorFlow for this section if you'd like to train faster on a GPU... though you can definitely get above 0.3 using your Numpy code. We're providing you the evaluation code that is compatible with the Numpy model as defined above... you should be able to adapt it for TensorFlow/PyTorch if you go that route."
   ]
  },
  {
   "cell_type": "code",
   "execution_count": 10,
   "metadata": {
    "collapsed": true,
    "deletable": true,
    "editable": true
   },
   "outputs": [],
   "source": [
    "def BLEU_score(gt_caption, sample_caption):\n",
    "    \"\"\"\n",
    "    gt_caption: string, ground-truth caption\n",
    "    sample_caption: string, your model's predicted caption\n",
    "    Returns unigram BLEU score.\n",
    "    \"\"\"\n",
    "    reference = [x for x in gt_caption.split(' ') \n",
    "                 if ('<END>' not in x and '<START>' not in x and '<UNK>' not in x)]\n",
    "    hypothesis = [x for x in sample_caption.split(' ') \n",
    "                  if ('<END>' not in x and '<START>' not in x and '<UNK>' not in x)]\n",
    "    BLEUscore = nltk.translate.bleu_score.sentence_bleu([reference], hypothesis, weights = [1])\n",
    "    return BLEUscore\n",
    "\n",
    "def evaluate_model(model):\n",
    "    \"\"\"\n",
    "    model: CaptioningRNN model\n",
    "    Prints unigram BLEU score averaged over 1000 training and val examples.\n",
    "    \"\"\"\n",
    "    for split in ['train', 'val']:\n",
    "        minibatch = sample_coco_minibatch(med_data, split=split, batch_size=1000)\n",
    "        gt_captions, features, urls = minibatch\n",
    "        gt_captions = decode_captions(gt_captions, data['idx_to_word'])\n",
    "\n",
    "        sample_captions = model.sample(features)\n",
    "        sample_captions = decode_captions(sample_captions, data['idx_to_word'])\n",
    "\n",
    "        total_score = 0.0\n",
    "        for gt_caption, sample_caption, url in zip(gt_captions, sample_captions, urls):\n",
    "            total_score += BLEU_score(gt_caption, sample_caption)\n",
    "\n",
    "        BLEUscores[split] = total_score / len(sample_captions)\n",
    "\n",
    "    for split in BLEUscores:\n",
    "        print('Average BLEU score for %s: %f' % (split, BLEUscores[split]))"
   ]
  },
  {
   "cell_type": "code",
   "execution_count": 2,
   "metadata": {},
   "outputs": [
    {
     "name": "stdout",
     "output_type": "stream",
     "text": [
      "train_captions <class 'numpy.ndarray'> (400135, 17) int32\n",
      "train_image_idxs <class 'numpy.ndarray'> (400135,) int32\n",
      "val_captions <class 'numpy.ndarray'> (195954, 17) int32\n",
      "val_image_idxs <class 'numpy.ndarray'> (195954,) int32\n",
      "train_features <class 'numpy.ndarray'> (82783, 4096) float32\n",
      "val_features <class 'numpy.ndarray'> (40504, 4096) float32\n",
      "idx_to_word <class 'list'> 1004\n",
      "word_to_idx <class 'dict'> 1004\n",
      "train_urls <class 'numpy.ndarray'> (82783,) <U63\n",
      "val_urls <class 'numpy.ndarray'> (40504,) <U63\n"
     ]
    }
   ],
   "source": [
    "# Load COCO data from disk; this returns a dictionary\n",
    "# We'll work with dimensionality-reduced features for this notebook, but feel\n",
    "# free to experiment with the original features by changing the flag below.\n",
    "data = load_coco_data(pca_features=False)\n",
    "\n",
    "# Print out all the keys and values from the data dictionary\n",
    "for k, v in data.items():\n",
    "    if type(v) == np.ndarray:\n",
    "        print(k, type(v), v.shape, v.dtype)\n",
    "    else:\n",
    "        print(k, type(v), len(v))"
   ]
  },
  {
   "cell_type": "code",
   "execution_count": 3,
   "metadata": {},
   "outputs": [],
   "source": [
    "import tensorflow as tf\n",
    "\n",
    "num_layers = 1\n",
    "num_units = 1024\n",
    "\n",
    "batch_size = 64\n",
    "feature_size = 4096\n",
    "vocab_size = 1004\n",
    "wordvec_size = 256\n",
    "num_steps = 16\n",
    "\n",
    "def image_caption_model_fn(features, labels, mode, params):\n",
    "    images = tf.reshape(features['images'], [batch_size, feature_size])\n",
    "    captions = tf.reshape(features['captions'], [batch_size, num_steps])\n",
    "\n",
    "    h0 = tf.layers.dense(images, num_units)\n",
    "    h0 = tf.reshape(h0, [num_layers, batch_size, num_units])\n",
    "    c0 = tf.zeros([num_layers, batch_size, num_units], tf.float32)\n",
    "\n",
    "    with tf.device(\"/cpu:0\"):\n",
    "        embedding = tf.get_variable(\"embedding\", [vocab_size, wordvec_size], tf.float32)\n",
    "        inputs = tf.nn.embedding_lookup(embedding, captions)\n",
    "\n",
    "    inputs = tf.transpose(inputs, [1, 0, 2])    # [num_steps, batch_size, wordvec_size]\n",
    "    lstm = tf.contrib.cudnn_rnn.CudnnLSTM(\n",
    "        num_layers,\n",
    "        num_units,\n",
    "        dropout=params['dropout_rate'] if mode == tf.estimator.ModeKeys.TRAIN else 0)\n",
    "    \n",
    "    outputs, _ = lstm(inputs, (h0, c0))\n",
    "    outputs = tf.transpose(outputs, [1, 0, 2])\n",
    "    \n",
    "    outputs = tf.reshape(outputs, [batch_size * num_steps, num_units])\n",
    "    logits = tf.layers.dense(outputs, vocab_size)\n",
    "    logits = tf.reshape(logits, [batch_size, num_steps, vocab_size])\n",
    "    \n",
    "    if mode == tf.estimator.ModeKeys.PREDICT:\n",
    "        predictions = tf.argmax(logits, axis=1)\n",
    "        return tf.estimator.EstimatorSpec(mode, predictions=predictions)\n",
    "    \n",
    "    weights = tf.cast(tf.not_equal(labels, tf.constant(params['NULL'], tf.int32)), tf.float32)\n",
    "    loss = tf.contrib.seq2seq.sequence_loss(logits, labels, weights)\n",
    "    \n",
    "    if mode == tf.estimator.ModeKeys.EVAL:\n",
    "        return tf.estimator.EstimatorSpec(mode, loss=loss)\n",
    "    \n",
    "    learning_rate_initial = params['learning_rate']\n",
    "    learning_rate = tf.train.exponential_decay(\n",
    "        learning_rate_initial,\n",
    "        tf.train.get_global_step(),\n",
    "        params['decay_steps'], params['decay_rate'], staircase=True)\n",
    "    \n",
    "    train_op = tf.train.AdamOptimizer(learning_rate).minimize(loss, global_step=tf.train.get_global_step())\n",
    "    \n",
    "    if mode == tf.estimator.ModeKeys.TRAIN:\n",
    "        return tf.estimator.EstimatorSpec(mode, loss=loss, train_op=train_op)"
   ]
  },
  {
   "cell_type": "code",
   "execution_count": 4,
   "metadata": {},
   "outputs": [],
   "source": [
    "def input_fn(data, mode, batch_size=64):\n",
    "    def gen():\n",
    "        while True:\n",
    "            captions, images, urls = sample_coco_minibatch(data, split=mode, batch_size=batch_size)\n",
    "            labels = captions[:, 1:]\n",
    "            captions = captions[:, :-1]\n",
    "            yield ({'images': images, 'captions': captions}, labels)\n",
    "    \n",
    "    dataset = tf.data.Dataset.from_generator(\n",
    "        gen,\n",
    "        ({'images': tf.float32, 'captions': tf.int32}, tf.int32),\n",
    "        ({'images': tf.TensorShape([None, 4096]), 'captions': tf.TensorShape([None, 16])}, tf.TensorShape([None, 16])))\n",
    "    \n",
    "    return dataset"
   ]
  },
  {
   "cell_type": "code",
   "execution_count": 5,
   "metadata": {},
   "outputs": [
    {
     "name": "stdout",
     "output_type": "stream",
     "text": [
      "INFO:tensorflow:Using default config.\n",
      "INFO:tensorflow:Using config: {'_model_dir': './image_caption_model', '_tf_random_seed': None, '_save_summary_steps': 100, '_save_checkpoints_steps': None, '_save_checkpoints_secs': 600, '_session_config': None, '_keep_checkpoint_max': 5, '_keep_checkpoint_every_n_hours': 10000, '_log_step_count_steps': 100, '_train_distribute': None, '_service': None, '_cluster_spec': <tensorflow.python.training.server_lib.ClusterSpec object at 0x7f74da8edb70>, '_task_type': 'worker', '_task_id': 0, '_global_id_in_cluster': 0, '_master': '', '_evaluation_master': '', '_is_chief': True, '_num_ps_replicas': 0, '_num_worker_replicas': 1}\n",
      "INFO:tensorflow:Calling model_fn.\n",
      "INFO:tensorflow:Done calling model_fn.\n",
      "INFO:tensorflow:Create CheckpointSaverHook.\n",
      "INFO:tensorflow:Graph was finalized.\n",
      "INFO:tensorflow:Running local_init_op.\n",
      "INFO:tensorflow:Done running local_init_op.\n",
      "INFO:tensorflow:Saving checkpoints for 1 into ./image_caption_model/model.ckpt.\n",
      "INFO:tensorflow:loss = 6.9269614, step = 0\n",
      "INFO:tensorflow:global_step/sec: 70.3515\n",
      "INFO:tensorflow:loss = 3.8984568, step = 100 (1.422 sec)\n",
      "INFO:tensorflow:global_step/sec: 84.1311\n",
      "INFO:tensorflow:loss = 3.3100777, step = 200 (1.189 sec)\n",
      "INFO:tensorflow:global_step/sec: 83.5223\n",
      "INFO:tensorflow:loss = 3.1747935, step = 300 (1.198 sec)\n",
      "INFO:tensorflow:global_step/sec: 84.4586\n",
      "INFO:tensorflow:loss = 2.9620888, step = 400 (1.184 sec)\n",
      "INFO:tensorflow:global_step/sec: 84.6161\n",
      "INFO:tensorflow:loss = 2.8829875, step = 500 (1.182 sec)\n",
      "INFO:tensorflow:global_step/sec: 84.41\n",
      "INFO:tensorflow:loss = 2.868469, step = 600 (1.185 sec)\n",
      "INFO:tensorflow:global_step/sec: 83.109\n",
      "INFO:tensorflow:loss = 2.9603548, step = 700 (1.203 sec)\n",
      "INFO:tensorflow:global_step/sec: 84.5488\n",
      "INFO:tensorflow:loss = 2.646871, step = 800 (1.183 sec)\n",
      "INFO:tensorflow:global_step/sec: 82.1586\n",
      "INFO:tensorflow:loss = 2.725871, step = 900 (1.217 sec)\n",
      "INFO:tensorflow:global_step/sec: 84.3893\n",
      "INFO:tensorflow:loss = 2.5081325, step = 1000 (1.185 sec)\n",
      "INFO:tensorflow:global_step/sec: 84.663\n",
      "INFO:tensorflow:loss = 2.8316128, step = 1100 (1.181 sec)\n",
      "INFO:tensorflow:global_step/sec: 83.3651\n",
      "INFO:tensorflow:loss = 2.5607672, step = 1200 (1.199 sec)\n",
      "INFO:tensorflow:global_step/sec: 84.0306\n",
      "INFO:tensorflow:loss = 2.5990489, step = 1300 (1.191 sec)\n",
      "INFO:tensorflow:global_step/sec: 84.2583\n",
      "INFO:tensorflow:loss = 2.4523144, step = 1400 (1.186 sec)\n",
      "INFO:tensorflow:global_step/sec: 84.4401\n",
      "INFO:tensorflow:loss = 2.6997795, step = 1500 (1.184 sec)\n",
      "INFO:tensorflow:global_step/sec: 84.617\n",
      "INFO:tensorflow:loss = 2.5465205, step = 1600 (1.182 sec)\n",
      "INFO:tensorflow:global_step/sec: 84.6591\n",
      "INFO:tensorflow:loss = 2.6152186, step = 1700 (1.181 sec)\n",
      "INFO:tensorflow:global_step/sec: 83.9567\n",
      "INFO:tensorflow:loss = 2.7881832, step = 1800 (1.191 sec)\n",
      "INFO:tensorflow:global_step/sec: 82.8106\n",
      "INFO:tensorflow:loss = 2.481917, step = 1900 (1.208 sec)\n",
      "INFO:tensorflow:global_step/sec: 83.2605\n",
      "INFO:tensorflow:loss = 2.6025743, step = 2000 (1.201 sec)\n",
      "INFO:tensorflow:global_step/sec: 84.166\n",
      "INFO:tensorflow:loss = 2.500791, step = 2100 (1.189 sec)\n",
      "INFO:tensorflow:global_step/sec: 81.2007\n",
      "INFO:tensorflow:loss = 2.431964, step = 2200 (1.231 sec)\n",
      "INFO:tensorflow:global_step/sec: 82.8729\n",
      "INFO:tensorflow:loss = 2.4176636, step = 2300 (1.207 sec)\n",
      "INFO:tensorflow:global_step/sec: 84.0932\n",
      "INFO:tensorflow:loss = 2.3477333, step = 2400 (1.189 sec)\n",
      "INFO:tensorflow:global_step/sec: 84.1426\n",
      "INFO:tensorflow:loss = 2.4416547, step = 2500 (1.188 sec)\n",
      "INFO:tensorflow:global_step/sec: 83.9362\n",
      "INFO:tensorflow:loss = 2.5601866, step = 2600 (1.192 sec)\n",
      "INFO:tensorflow:global_step/sec: 83.6978\n",
      "INFO:tensorflow:loss = 2.5105593, step = 2700 (1.194 sec)\n",
      "INFO:tensorflow:global_step/sec: 82.0855\n",
      "INFO:tensorflow:loss = 2.326956, step = 2800 (1.219 sec)\n",
      "INFO:tensorflow:global_step/sec: 83.0183\n",
      "INFO:tensorflow:loss = 2.439485, step = 2900 (1.204 sec)\n",
      "INFO:tensorflow:global_step/sec: 82.9019\n",
      "INFO:tensorflow:loss = 2.126491, step = 3000 (1.207 sec)\n",
      "INFO:tensorflow:global_step/sec: 83.923\n",
      "INFO:tensorflow:loss = 2.2560072, step = 3100 (1.191 sec)\n",
      "INFO:tensorflow:global_step/sec: 83.1923\n",
      "INFO:tensorflow:loss = 2.2793455, step = 3200 (1.203 sec)\n",
      "INFO:tensorflow:global_step/sec: 83.2857\n",
      "INFO:tensorflow:loss = 2.4638312, step = 3300 (1.200 sec)\n",
      "INFO:tensorflow:global_step/sec: 83.7168\n",
      "INFO:tensorflow:loss = 2.4602563, step = 3400 (1.195 sec)\n",
      "INFO:tensorflow:global_step/sec: 83.8393\n",
      "INFO:tensorflow:loss = 2.2725334, step = 3500 (1.193 sec)\n",
      "INFO:tensorflow:global_step/sec: 83.757\n",
      "INFO:tensorflow:loss = 2.360234, step = 3600 (1.194 sec)\n",
      "INFO:tensorflow:global_step/sec: 83.6607\n",
      "INFO:tensorflow:loss = 2.283565, step = 3700 (1.196 sec)\n",
      "INFO:tensorflow:global_step/sec: 83.657\n",
      "INFO:tensorflow:loss = 2.4354258, step = 3800 (1.195 sec)\n",
      "INFO:tensorflow:global_step/sec: 83.817\n",
      "INFO:tensorflow:loss = 2.5355325, step = 3900 (1.194 sec)\n",
      "INFO:tensorflow:global_step/sec: 83.698\n",
      "INFO:tensorflow:loss = 2.289902, step = 4000 (1.194 sec)\n",
      "INFO:tensorflow:global_step/sec: 83.5933\n",
      "INFO:tensorflow:loss = 2.4485104, step = 4100 (1.197 sec)\n",
      "INFO:tensorflow:global_step/sec: 83.6419\n",
      "INFO:tensorflow:loss = 2.3647604, step = 4200 (1.195 sec)\n",
      "INFO:tensorflow:global_step/sec: 83.4429\n",
      "INFO:tensorflow:loss = 2.2231817, step = 4300 (1.199 sec)\n",
      "INFO:tensorflow:global_step/sec: 82.9972\n",
      "INFO:tensorflow:loss = 2.3735237, step = 4400 (1.205 sec)\n",
      "INFO:tensorflow:global_step/sec: 83.5189\n",
      "INFO:tensorflow:loss = 2.1294546, step = 4500 (1.197 sec)\n",
      "INFO:tensorflow:global_step/sec: 84.0099\n",
      "INFO:tensorflow:loss = 2.373804, step = 4600 (1.191 sec)\n",
      "INFO:tensorflow:global_step/sec: 83.178\n",
      "INFO:tensorflow:loss = 2.4688258, step = 4700 (1.202 sec)\n",
      "INFO:tensorflow:global_step/sec: 83.8039\n",
      "INFO:tensorflow:loss = 2.5272646, step = 4800 (1.193 sec)\n",
      "INFO:tensorflow:global_step/sec: 83.5627\n",
      "INFO:tensorflow:loss = 2.1857722, step = 4900 (1.197 sec)\n",
      "INFO:tensorflow:global_step/sec: 83.4464\n",
      "INFO:tensorflow:loss = 2.1726694, step = 5000 (1.198 sec)\n",
      "INFO:tensorflow:global_step/sec: 83.9144\n",
      "INFO:tensorflow:loss = 2.2195044, step = 5100 (1.191 sec)\n",
      "INFO:tensorflow:global_step/sec: 84.0425\n",
      "INFO:tensorflow:loss = 2.2580223, step = 5200 (1.191 sec)\n",
      "INFO:tensorflow:global_step/sec: 83.4241\n",
      "INFO:tensorflow:loss = 2.3016987, step = 5300 (1.198 sec)\n",
      "INFO:tensorflow:global_step/sec: 83.6493\n",
      "INFO:tensorflow:loss = 2.2275915, step = 5400 (1.197 sec)\n",
      "INFO:tensorflow:global_step/sec: 83.0434\n",
      "INFO:tensorflow:loss = 2.266882, step = 5500 (1.204 sec)\n",
      "INFO:tensorflow:global_step/sec: 83.7565\n",
      "INFO:tensorflow:loss = 2.183872, step = 5600 (1.192 sec)\n",
      "INFO:tensorflow:global_step/sec: 84.0256\n",
      "INFO:tensorflow:loss = 2.3708892, step = 5700 (1.191 sec)\n",
      "INFO:tensorflow:global_step/sec: 83.5782\n",
      "INFO:tensorflow:loss = 2.2697625, step = 5800 (1.196 sec)\n",
      "INFO:tensorflow:global_step/sec: 84.3776\n",
      "INFO:tensorflow:loss = 2.3854978, step = 5900 (1.185 sec)\n",
      "INFO:tensorflow:global_step/sec: 83.7392\n",
      "INFO:tensorflow:loss = 2.304489, step = 6000 (1.195 sec)\n",
      "INFO:tensorflow:global_step/sec: 83.111\n",
      "INFO:tensorflow:loss = 2.138921, step = 6100 (1.203 sec)\n",
      "INFO:tensorflow:global_step/sec: 81.2082\n",
      "INFO:tensorflow:loss = 2.0510664, step = 6200 (1.233 sec)\n",
      "INFO:tensorflow:global_step/sec: 83.6589\n",
      "INFO:tensorflow:loss = 2.0945277, step = 6300 (1.194 sec)\n",
      "INFO:tensorflow:global_step/sec: 83.642\n",
      "INFO:tensorflow:loss = 2.2660828, step = 6400 (1.196 sec)\n",
      "INFO:tensorflow:global_step/sec: 83.1648\n",
      "INFO:tensorflow:loss = 2.2561662, step = 6500 (1.202 sec)\n",
      "INFO:tensorflow:global_step/sec: 83.4587\n",
      "INFO:tensorflow:loss = 2.3161936, step = 6600 (1.199 sec)\n",
      "INFO:tensorflow:global_step/sec: 84.248\n",
      "INFO:tensorflow:loss = 2.112741, step = 6700 (1.186 sec)\n",
      "INFO:tensorflow:global_step/sec: 84.2001\n",
      "INFO:tensorflow:loss = 2.1894608, step = 6800 (1.188 sec)\n",
      "INFO:tensorflow:global_step/sec: 84.1352\n",
      "INFO:tensorflow:loss = 2.2586129, step = 6900 (1.188 sec)\n",
      "INFO:tensorflow:global_step/sec: 83.472\n",
      "INFO:tensorflow:loss = 2.1201465, step = 7000 (1.199 sec)\n",
      "INFO:tensorflow:global_step/sec: 82.7835\n",
      "INFO:tensorflow:loss = 2.3280272, step = 7100 (1.207 sec)\n",
      "INFO:tensorflow:global_step/sec: 83.2041\n",
      "INFO:tensorflow:loss = 2.3989475, step = 7200 (1.203 sec)\n",
      "INFO:tensorflow:global_step/sec: 83.2978\n",
      "INFO:tensorflow:loss = 2.272968, step = 7300 (1.200 sec)\n",
      "INFO:tensorflow:global_step/sec: 83.6757\n",
      "INFO:tensorflow:loss = 2.3137748, step = 7400 (1.195 sec)\n",
      "INFO:tensorflow:global_step/sec: 83.7363\n",
      "INFO:tensorflow:loss = 2.2926679, step = 7500 (1.195 sec)\n",
      "INFO:tensorflow:global_step/sec: 83.5421\n",
      "INFO:tensorflow:loss = 2.14105, step = 7600 (1.196 sec)\n",
      "INFO:tensorflow:global_step/sec: 83.9961\n",
      "INFO:tensorflow:loss = 2.384236, step = 7700 (1.191 sec)\n",
      "INFO:tensorflow:global_step/sec: 84.3444\n",
      "INFO:tensorflow:loss = 2.1990638, step = 7800 (1.185 sec)\n",
      "INFO:tensorflow:global_step/sec: 83.4146\n",
      "INFO:tensorflow:loss = 2.3232737, step = 7900 (1.199 sec)\n",
      "INFO:tensorflow:global_step/sec: 83.619\n",
      "INFO:tensorflow:loss = 2.0162313, step = 8000 (1.196 sec)\n",
      "INFO:tensorflow:global_step/sec: 83.8457\n",
      "INFO:tensorflow:loss = 2.1971269, step = 8100 (1.193 sec)\n",
      "INFO:tensorflow:global_step/sec: 83.4108\n",
      "INFO:tensorflow:loss = 2.1518068, step = 8200 (1.199 sec)\n",
      "INFO:tensorflow:global_step/sec: 83.5119\n",
      "INFO:tensorflow:loss = 2.264394, step = 8300 (1.199 sec)\n",
      "INFO:tensorflow:global_step/sec: 83.61\n",
      "INFO:tensorflow:loss = 2.1280346, step = 8400 (1.194 sec)\n",
      "INFO:tensorflow:global_step/sec: 83.3965\n",
      "INFO:tensorflow:loss = 2.1403477, step = 8500 (1.199 sec)\n",
      "INFO:tensorflow:global_step/sec: 83.9624\n",
      "INFO:tensorflow:loss = 2.1625865, step = 8600 (1.192 sec)\n",
      "INFO:tensorflow:global_step/sec: 83.9437\n",
      "INFO:tensorflow:loss = 2.4638028, step = 8700 (1.190 sec)\n",
      "INFO:tensorflow:global_step/sec: 83.5246\n",
      "INFO:tensorflow:loss = 2.2495663, step = 8800 (1.197 sec)\n",
      "INFO:tensorflow:global_step/sec: 83.8942\n",
      "INFO:tensorflow:loss = 2.197406, step = 8900 (1.194 sec)\n",
      "INFO:tensorflow:global_step/sec: 83.232\n",
      "INFO:tensorflow:loss = 2.2218473, step = 9000 (1.199 sec)\n",
      "INFO:tensorflow:global_step/sec: 83.9108\n",
      "INFO:tensorflow:loss = 2.1722171, step = 9100 (1.192 sec)\n",
      "INFO:tensorflow:global_step/sec: 83.2992\n",
      "INFO:tensorflow:loss = 2.2866042, step = 9200 (1.201 sec)\n",
      "INFO:tensorflow:global_step/sec: 83.2028\n",
      "INFO:tensorflow:loss = 2.180484, step = 9300 (1.201 sec)\n",
      "INFO:tensorflow:global_step/sec: 83.3226\n",
      "INFO:tensorflow:loss = 2.3558097, step = 9400 (1.200 sec)\n",
      "INFO:tensorflow:global_step/sec: 84.1685\n",
      "INFO:tensorflow:loss = 2.0507843, step = 9500 (1.188 sec)\n",
      "INFO:tensorflow:global_step/sec: 83.3201\n",
      "INFO:tensorflow:loss = 2.1775062, step = 9600 (1.200 sec)\n",
      "INFO:tensorflow:global_step/sec: 83.7128\n",
      "INFO:tensorflow:loss = 2.0953693, step = 9700 (1.196 sec)\n",
      "INFO:tensorflow:global_step/sec: 83.6981\n",
      "INFO:tensorflow:loss = 2.1418152, step = 9800 (1.194 sec)\n",
      "INFO:tensorflow:global_step/sec: 83.9581\n",
      "INFO:tensorflow:loss = 2.1324358, step = 9900 (1.191 sec)\n",
      "INFO:tensorflow:Saving checkpoints for 10000 into ./image_caption_model/model.ckpt.\n",
      "INFO:tensorflow:Loss for final step: 2.1928637.\n"
     ]
    },
    {
     "data": {
      "text/plain": [
       "<tensorflow.python.estimator.estimator.Estimator at 0x7f74da8ed898>"
      ]
     },
     "execution_count": 5,
     "metadata": {},
     "output_type": "execute_result"
    }
   ],
   "source": [
    "params = {\n",
    "    'dropout_rate': 0,\n",
    "    'learning_rate': 1e-3,\n",
    "    'decay_steps': 1000,\n",
    "    'decay_rate': 0.95,\n",
    "    'NULL': data['word_to_idx']['<NULL>'],\n",
    "}\n",
    "\n",
    "model = tf.estimator.Estimator(\n",
    "    model_fn=image_caption_model_fn,\n",
    "    model_dir='./image_caption_model',\n",
    "    params=params\n",
    ")\n",
    "\n",
    "model.train(lambda: input_fn(data, 'train', batch_size), max_steps=10000)"
   ]
  },
  {
   "cell_type": "code",
   "execution_count": null,
   "metadata": {},
   "outputs": [],
   "source": []
  }
 ],
 "metadata": {
  "kernelspec": {
   "display_name": "Python 3",
   "language": "python",
   "name": "python3"
  },
  "language_info": {
   "codemirror_mode": {
    "name": "ipython",
    "version": 3
   },
   "file_extension": ".py",
   "mimetype": "text/x-python",
   "name": "python",
   "nbconvert_exporter": "python",
   "pygments_lexer": "ipython3",
   "version": "3.6.5"
  }
 },
 "nbformat": 4,
 "nbformat_minor": 2
}
